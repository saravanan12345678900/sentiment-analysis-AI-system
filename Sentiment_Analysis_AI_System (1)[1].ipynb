{
  "cells": [
    {
      "attachments": {},
      "cell_type": "markdown",
      "metadata": {
        "id": "TlUTFkrydb6X"
      },
      "source": []
    },
    {
      "cell_type": "code",
      "execution_count": null,
      "metadata": {
        "id": "BA0VnAaOGfba",
        "vscode": {
          "languageId": "python"
        }
      },
      "outputs": [],
      "source": [
        "import pandas as pd\n",
        "import nltk\n",
        "from nltk.sentiment.vader import SentimentIntensityAnalyzer\n"
      ]
    },
    {
      "cell_type": "code",
      "execution_count": null,
      "metadata": {
        "colab": {
          "base_uri": "https://localhost:8080/"
        },
        "id": "IpCm8Pr7G1Vr",
        "outputId": "d13f4b38-5cb3-4232-9d6a-e53694383cf9",
        "vscode": {
          "languageId": "python"
        }
      },
      "outputs": [
        {
          "name": "stderr",
          "output_type": "stream",
          "text": [
            "[nltk_data] Downloading package vader_lexicon to /root/nltk_data...\n"
          ]
        },
        {
          "data": {
            "text/plain": [
              "True"
            ]
          },
          "execution_count": 2,
          "metadata": {},
          "output_type": "execute_result"
        }
      ],
      "source": [
        "\n",
        "nltk.download('vader_lexicon')\n",
        "\n"
      ]
    },
    {
      "cell_type": "code",
      "execution_count": null,
      "metadata": {
        "id": "JXgc-59ZHBNB",
        "vscode": {
          "languageId": "python"
        }
      },
      "outputs": [],
      "source": [
        "data = pd.read_csv('/content/archive.zip')"
      ]
    },
    {
      "cell_type": "code",
      "execution_count": null,
      "metadata": {
        "id": "76M0Fc2HJLdc",
        "vscode": {
          "languageId": "python"
        }
      },
      "outputs": [],
      "source": [
        "sid = SentimentIntensityAnalyzer()\n"
      ]
    },
    {
      "cell_type": "code",
      "execution_count": null,
      "metadata": {
        "id": "QBJo5mi9JgDU",
        "vscode": {
          "languageId": "python"
        }
      },
      "outputs": [],
      "source": [
        "def get_sentiment_score(text):\n",
        "    scores = sid.polarity_scores(text)\n",
        "    return scores['compound']\n"
      ]
    },
    {
      "cell_type": "code",
      "execution_count": null,
      "metadata": {
        "id": "3-SALd3PJlU7",
        "vscode": {
          "languageId": "python"
        }
      },
      "outputs": [],
      "source": [
        "data['sentiment_score'] = data['review'].apply(get_sentiment_score)\n"
      ]
    },
    {
      "cell_type": "code",
      "execution_count": null,
      "metadata": {
        "id": "YGPOwhrkNUhy",
        "vscode": {
          "languageId": "python"
        }
      },
      "outputs": [],
      "source": [
        "def categorize_sentiment(score):\n",
        "    if score >= 0.05:\n",
        "        return 'Positive'\n",
        "    elif score <= -0.05:\n",
        "        return 'Negative'\n",
        "    else:\n",
        "        return 'Neutral'\n"
      ]
    },
    {
      "cell_type": "code",
      "execution_count": null,
      "metadata": {
        "id": "RB_4olDxNZPj",
        "vscode": {
          "languageId": "python"
        }
      },
      "outputs": [],
      "source": [
        "data['sentiment_category'] = data['sentiment_score'].apply(categorize_sentiment)\n"
      ]
    },
    {
      "cell_type": "code",
      "execution_count": null,
      "metadata": {
        "colab": {
          "base_uri": "https://localhost:8080/"
        },
        "id": "fQ184EHfNdVE",
        "outputId": "896b78e0-271f-49d9-d1aa-258d6dcc5b2c",
        "vscode": {
          "languageId": "python"
        }
      },
      "outputs": [
        {
          "name": "stdout",
          "output_type": "stream",
          "text": [
            "                                              review  sentiment_score  \\\n",
            "0  One of the other reviewers has mentioned that ...          -0.9951   \n",
            "1  A wonderful little production. <br /><br />The...           0.9641   \n",
            "2  I thought this was a wonderful way to spend ti...           0.9605   \n",
            "3  Basically there's a family where a little boy ...          -0.9213   \n",
            "4  Petter Mattei's \"Love in the Time of Money\" is...           0.9744   \n",
            "\n",
            "  sentiment_category  \n",
            "0           Negative  \n",
            "1           Positive  \n",
            "2           Positive  \n",
            "3           Negative  \n",
            "4           Positive  \n"
          ]
        }
      ],
      "source": [
        "print(data[['review', 'sentiment_score', 'sentiment_category']].head())"
      ]
    }
  ],
  "metadata": {
    "colab": {
      "provenance": []
    },
    "kernelspec": {
      "display_name": "Python 3",
      "name": "python3"
    }
  },
  "nbformat": 4,
  "nbformat_minor": 0
}
